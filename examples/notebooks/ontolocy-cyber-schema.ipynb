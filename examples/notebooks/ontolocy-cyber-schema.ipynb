{
 "cells": [
  {
   "cell_type": "markdown",
   "metadata": {},
   "source": [
    "# Explore the Cyber Ontology\n",
    "\n",
    "This notebook uses introspection to explore the cyber graph ontology / schema which underpins Ontolocy."
   ]
  },
  {
   "cell_type": "code",
   "execution_count": null,
   "metadata": {},
   "outputs": [],
   "source": [
    "# Install dependencies if needed\n",
    "\n",
    "%pip install neontology\n",
    "%pip install ontolocy\n",
    "%pip install networkx\n",
    "%pip install ipysigma\n",
    "%pip install yfiles_jupyter_graphs"
   ]
  },
  {
   "cell_type": "code",
   "execution_count": null,
   "metadata": {},
   "outputs": [],
   "source": [
    "from ontolocy import *\n",
    "from neontology import init_neontology\n",
    "from neontology.utils import get_node_types, get_rels_by_type\n",
    "import networkx as nx\n",
    "from ipysigma import Sigma\n",
    "from IPython.display import display, Markdown\n",
    "\n",
    "# proprietary graph visualization library\n",
    "from yfiles_jupyter_graphs import GraphWidget"
   ]
  },
  {
   "cell_type": "code",
   "execution_count": null,
   "metadata": {},
   "outputs": [],
   "source": [
    "# if running on google colab, enable custom widgets\n",
    "try:\n",
    "    import google.colab\n",
    "    from google.colab import output\n",
    "\n",
    "    output.enable_custom_widget_manager()\n",
    "\n",
    "except:\n",
    "    pass"
   ]
  },
  {
   "cell_type": "code",
   "execution_count": null,
   "metadata": {},
   "outputs": [],
   "source": [
    "def generate_schema_graph():\n",
    "    node_types = get_node_types()\n",
    "\n",
    "    nodes = [\n",
    "        {\n",
    "            \"id\": x.__primarylabel__,\n",
    "            \"name\": x.__primarylabel__,\n",
    "            \"fields\": list(x.model_fields.keys()),\n",
    "        }\n",
    "        for x in node_types.values()\n",
    "    ]\n",
    "\n",
    "    rel_types = get_rels_by_type()\n",
    "\n",
    "    links = [\n",
    "        {\n",
    "            \"source\": x.source_class.__primarylabel__,\n",
    "            \"target\": x.target_class.__primarylabel__,\n",
    "            \"link_label\": f\"{x.relationship_class.__relationshiptype__}: Relationship Type\",\n",
    "        }\n",
    "        for x in rel_types.values()\n",
    "        if hasattr(x.source_class, \"__primarylabel__\")\n",
    "        and hasattr(x.target_class, \"__primarylabel__\")\n",
    "        and hasattr(x.relationship_class, \"__relationshiptype__\")\n",
    "        and x.source_class.__primarylabel__ in node_types.keys()\n",
    "        and x.target_class.__primarylabel__ in node_types.keys()\n",
    "    ]\n",
    "\n",
    "    return {\"edges\": links, \"nodes\": nodes}"
   ]
  },
  {
   "cell_type": "code",
   "execution_count": null,
   "metadata": {},
   "outputs": [],
   "source": [
    "def prepare_nx(node_link_data):\n",
    "    return nx.node_link_graph(\n",
    "        node_link_data,\n",
    "        edges=\"edges\",\n",
    "    )\n",
    "\n",
    "\n",
    "def display_graph_sigma(input_data):\n",
    "    nx_graph = prepare_nx(input_data)\n",
    "\n",
    "    return Sigma(\n",
    "        nx_graph,\n",
    "        node_label=\"name\",\n",
    "        node_color=\"name\",\n",
    "        default_edge_type=\"curve\",\n",
    "        node_border_color_from=\"node\",\n",
    "        show_all_labels=True,\n",
    "    )\n",
    "\n",
    "\n",
    "def display_graph_yfiles(input_data):\n",
    "    nx_graph = prepare_nx(input_data)\n",
    "\n",
    "    gw = GraphWidget(graph=nx_graph)\n",
    "\n",
    "    gw.node_label_mapping = \"name\"\n",
    "    gw.edge_label_mapping = \"link_label\"\n",
    "\n",
    "    return gw"
   ]
  },
  {
   "cell_type": "code",
   "execution_count": null,
   "metadata": {},
   "outputs": [],
   "source": [
    "input_data = generate_schema_graph()"
   ]
  },
  {
   "cell_type": "code",
   "execution_count": null,
   "metadata": {},
   "outputs": [],
   "source": [
    "# Explore the schema with yfiles\n",
    "\n",
    "display_graph_yfiles(input_data)"
   ]
  },
  {
   "cell_type": "code",
   "execution_count": null,
   "metadata": {},
   "outputs": [],
   "source": [
    "# Uncomment below to explore the schema in Sigma\n",
    "\n",
    "# display_graph_sigma(input_data)"
   ]
  },
  {
   "cell_type": "code",
   "execution_count": null,
   "metadata": {},
   "outputs": [],
   "source": [
    "# Neontology nodes have a built in method which provides schema information\n",
    "\n",
    "# Here we generate a simple table with the properties for a node\n",
    "\n",
    "label_to_inspect = IPAddressNode\n",
    "\n",
    "display(Markdown(label_to_inspect.neontology_schema().md_node_table()))"
   ]
  },
  {
   "cell_type": "code",
   "execution_count": null,
   "metadata": {},
   "outputs": [],
   "source": [
    "# We can also see information about outgoing relationships\n",
    "\n",
    "display(Markdown(label_to_inspect.neontology_schema().md_rel_tables()))"
   ]
  },
  {
   "cell_type": "code",
   "execution_count": null,
   "metadata": {},
   "outputs": [],
   "source": []
  }
 ],
 "metadata": {
  "kernelspec": {
   "display_name": ".tenv",
   "language": "python",
   "name": "python3"
  },
  "language_info": {
   "codemirror_mode": {
    "name": "ipython",
    "version": 3
   },
   "file_extension": ".py",
   "mimetype": "text/x-python",
   "name": "python",
   "nbconvert_exporter": "python",
   "pygments_lexer": "ipython3",
   "version": "3.12.4"
  }
 },
 "nbformat": 4,
 "nbformat_minor": 2
}
