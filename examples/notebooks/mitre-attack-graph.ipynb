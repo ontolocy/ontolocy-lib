{
 "cells": [
  {
   "cell_type": "markdown",
   "metadata": {},
   "source": [
    "# Exploring MITRE ATT&CK Data as a Graph\n"
   ]
  },
  {
   "cell_type": "code",
   "execution_count": null,
   "metadata": {},
   "outputs": [],
   "source": [
    "# Install dependencies if needed\n",
    "\n",
    "%pip install pandas\n",
    "%pip install neontology\n",
    "%pip install ontolocy\n",
    "%pip install networkx\n",
    "%pip install ipydatagrid\n",
    "%pip install ipysigma\n",
    "%pip install yfiles_jupyter_graphs"
   ]
  },
  {
   "cell_type": "code",
   "execution_count": null,
   "metadata": {},
   "outputs": [],
   "source": [
    "import os\n",
    "\n",
    "import pandas as pd\n",
    "import networkx as nx\n",
    "from ipysigma import Sigma\n",
    "from ipydatagrid import DataGrid\n",
    "\n",
    "# proprietary graph visualization library\n",
    "from yfiles_jupyter_graphs import GraphWidget\n",
    "\n",
    "from neontology import init_neontology, GraphConnection, Neo4jConfig\n",
    "from neontology.utils import auto_constrain_neo4j\n",
    "\n",
    "\n",
    "from ontolocy import MitreAttackGroup, MitreAttackTechnique, MitreAttackTactic\n",
    "from ontolocy.tools import MitreAttackParser"
   ]
  },
  {
   "cell_type": "code",
   "execution_count": null,
   "metadata": {},
   "outputs": [],
   "source": [
    "# if running on google colab, enable custom widgets\n",
    "try:\n",
    "    import google.colab\n",
    "    from google.colab import output\n",
    "\n",
    "    output.enable_custom_widget_manager()\n",
    "\n",
    "except:\n",
    "    pass"
   ]
  },
  {
   "cell_type": "code",
   "execution_count": null,
   "metadata": {},
   "outputs": [],
   "source": [
    "# Function Definitions\n",
    "\n",
    "\n",
    "def display_graph_sigma(input):\n",
    "    link_data = input.node_link_data\n",
    "    nx_graph = nx.node_link_graph(link_data, edges=\"edges\", key=\"__pp__\", name=\"__pp__\")\n",
    "    return Sigma(nx_graph, node_label=\"__str__\", node_color=\"LABEL\")\n",
    "\n",
    "\n",
    "def display_graph_yfiles(input):\n",
    "    link_data = input.node_link_data\n",
    "\n",
    "    nx_graph = nx.node_link_graph(link_data, edges=\"edges\", key=\"__pp__\", name=\"__pp__\")\n",
    "\n",
    "    gw = GraphWidget(graph=nx_graph)\n",
    "\n",
    "    gw.node_label_mapping = \"__str__\"\n",
    "\n",
    "    return gw\n",
    "\n",
    "\n",
    "def display_df(input):\n",
    "    return DataGrid(input)"
   ]
  },
  {
   "cell_type": "code",
   "execution_count": null,
   "metadata": {},
   "outputs": [],
   "source": [
    "# Config\n",
    "\n",
    "mitre_attack_url = \"https://github.com/mitre-attack/attack-stix-data/raw/refs/heads/master/enterprise-attack/enterprise-attack-15.1.json\"\n",
    "\n",
    "# By default, the cell looks for environment variables, otherwise specify connection info here\n",
    "neo4j_uri = os.getenv(\"NEO4J_URI\", \"neo4j://localhost:7687\")\n",
    "neo4j_username = os.getenv(\"NEO4J_USERNAME\", \"neo4j\")\n",
    "neo4j_password = os.getenv(\"NEO4J_PASSWORD\", \"<PASSWORD>\")\n",
    "\n",
    "graph_config = Neo4jConfig(\n",
    "    uri=neo4j_uri, username=neo4j_username, password=neo4j_password\n",
    ")"
   ]
  },
  {
   "cell_type": "code",
   "execution_count": null,
   "metadata": {},
   "outputs": [],
   "source": [
    "# Initialise the connection to the database\n",
    "\n",
    "init_neontology(graph_config)\n",
    "gc = GraphConnection()"
   ]
  },
  {
   "cell_type": "code",
   "execution_count": null,
   "metadata": {},
   "outputs": [],
   "source": [
    "# If we don't already have MITRE ATT&CK data in the graph, populate it\n",
    "# this can take a few minutes - it's about 20,000 relationships\n",
    "\n",
    "if not MitreAttackTechnique.match_nodes(limit=1):\n",
    "    auto_constrain_neo4j()\n",
    "    attack_parser = MitreAttackParser()\n",
    "    attack_parser.parse_url(mitre_attack_url)"
   ]
  },
  {
   "cell_type": "code",
   "execution_count": null,
   "metadata": {},
   "outputs": [],
   "source": [
    "# We can use Ontolocy classes directly to look at certain Nodes in the graph\n",
    "\n",
    "tactics = MitreAttackTactic.match_nodes()\n",
    "\n",
    "tactic_records = [x.model_dump() for x in tactics]\n",
    "\n",
    "tactic_df = pd.DataFrame.from_records(tactic_records)\n",
    "\n",
    "# Show the dataframe natively\n",
    "tactic_df[[\"attack_id\", \"name\", \"description\", \"attack_shortname\"]].head()"
   ]
  },
  {
   "cell_type": "code",
   "execution_count": null,
   "metadata": {},
   "outputs": [],
   "source": [
    "# Display the dataframe more interactively\n",
    "display_df(tactic_df)"
   ]
  },
  {
   "cell_type": "code",
   "execution_count": null,
   "metadata": {},
   "outputs": [],
   "source": [
    "# We can visualize how techniques relate to tactics\n",
    "\n",
    "tactics_techniques_cypher = \"MATCH (ta:MitreAttackTactic)-[r:MITRE_TACTIC_INCLUDES_TECHNIQUE]->(te:MitreAttackTechnique) RETURN *\"\n",
    "\n",
    "tactics_techniques_results = gc.evaluate_query(tactics_techniques_cypher)\n",
    "\n",
    "display_graph_yfiles(tactics_techniques_results)"
   ]
  },
  {
   "cell_type": "code",
   "execution_count": null,
   "metadata": {},
   "outputs": [],
   "source": [
    "# Techniques have some properties which retrieve information from related nodes\n",
    "\n",
    "technique = MitreAttackTechnique.match_nodes(limit=1)\n",
    "technique[0].tactic_names"
   ]
  },
  {
   "cell_type": "code",
   "execution_count": null,
   "metadata": {},
   "outputs": [],
   "source": [
    "# Explore APT groups and the links between them\n",
    "\n",
    "apt_cypher = \"\"\"\n",
    "MATCH (apt:MitreAttackGroup)-[r]->(o)\n",
    "WHERE apt.name CONTAINS 'APT' \n",
    "RETURN * LIMIT 400\n",
    "\"\"\"\n",
    "\n",
    "apt_results = gc.evaluate_query(apt_cypher)"
   ]
  },
  {
   "cell_type": "code",
   "execution_count": null,
   "metadata": {},
   "outputs": [],
   "source": [
    "# Display with yfiles\n",
    "\n",
    "display_graph_yfiles(apt_results)"
   ]
  },
  {
   "cell_type": "code",
   "execution_count": null,
   "metadata": {},
   "outputs": [],
   "source": [
    "# Alternatively, uncomment below to display with Sigma\n",
    "\n",
    "# display_graph_sigma(apt_results)"
   ]
  },
  {
   "cell_type": "code",
   "execution_count": null,
   "metadata": {},
   "outputs": [],
   "source": []
  }
 ],
 "metadata": {
  "kernelspec": {
   "display_name": ".tenv",
   "language": "python",
   "name": "python3"
  },
  "language_info": {
   "codemirror_mode": {
    "name": "ipython",
    "version": 3
   },
   "file_extension": ".py",
   "mimetype": "text/x-python",
   "name": "python",
   "nbconvert_exporter": "python",
   "pygments_lexer": "ipython3",
   "version": "3.12.4"
  }
 },
 "nbformat": 4,
 "nbformat_minor": 2
}
